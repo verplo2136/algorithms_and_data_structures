{
 "cells": [
  {
   "cell_type": "markdown",
   "metadata": {},
   "source": [
    "# Practice Interview\n",
    "\n",
    "## Objective\n",
    "\n",
    "_*The partner assignment aims to provide participants with the opportunity to practice coding in an interview context. You will analyze your partner's Assignment 1. Moreover, code reviews are common practice in a software development team. This assignment should give you a taste of the code review process.*_\n",
    "\n",
    "## Group Size\n",
    "\n",
    "Each group should have 2 people. You will be assigned a partner\n",
    "\n",
    "## Part 1:\n",
    "\n",
    "You and your partner must share each other's Assignment 1 submission."
   ]
  },
  {
   "cell_type": "markdown",
   "metadata": {},
   "source": [
    "\n",
    "## Part 2:\n",
    "\n",
    "Create a Jupyter Notebook, create 6 of the following headings, and complete the following for your partner's assignment 1:\n",
    "\n",
    "-   Paraphrase the problem in your own words.\n"
   ]
  },
  {
   "cell_type": "code",
   "execution_count": null,
   "metadata": {},
   "outputs": [],
   "source": [
    "# Your answer here\n",
    "# The problem requires finding and returning a list of integers that are missing from the range [0, n] in a given list of integers. \n",
    "# If no numbers are missing, the function should return -1. \n",
    "# The input list may contain duplicate integers."
   ]
  },
  {
   "cell_type": "markdown",
   "metadata": {},
   "source": [
    "\n",
    "-   Create 1 new example that demonstrates you understand the problem. Trace/walkthrough 1 example that your partner made and explain it.\n"
   ]
  },
  {
   "cell_type": "code",
   "execution_count": null,
   "metadata": {},
   "outputs": [],
   "source": [
    "# Your answer here\n",
    "# input:\n",
    "# nums = [1, 2, 4, 4, 5]\n",
    "\n",
    "# Output:[0, 3]\n",
    "\n",
    "# The input list contains numbers ranging from 0 to 5, but 0 and 3 are missing. Therefore, the output is [0, 3].\n",
    "\n",
    "# Partner's Example Walkthrough\n",
    "\n",
    "# Input:nums = [0, 2, 5]\n",
    "#Output:[1, 3, 4]\n",
    "\n",
    "#Explanation: Find the maximum number in the list, which is 5.\n",
    "# Create a set of the input list: {0, 2, 5}.\n",
    "# Iterate from 0 to 5 and check if each number is in the set.\n",
    "# 0 is in the set.\n",
    "# 1 is not in the set, so add it to the missing numbers list.\n",
    "# 2 is in the set.\n",
    "# 3 is not in the set, so add it to the missing numbers list.\n",
    "# 4 is not in the set, so add it to the missing numbers list.\n",
    "# 5 is in the set.\n",
    "# The missing numbers list is [1, 3, 4]."
   ]
  },
  {
   "cell_type": "markdown",
   "metadata": {},
   "source": [
    "\n",
    "-   Copy the solution your partner wrote. \n"
   ]
  },
  {
   "cell_type": "code",
   "execution_count": 3,
   "metadata": {},
   "outputs": [
    {
     "name": "stdout",
     "output_type": "stream",
     "text": [
      "[1, 3, 4]\n"
     ]
    }
   ],
   "source": [
    "# Your answer here\n",
    "from typing import List\n",
    "\n",
    "def missing_num(nums: List) -> int:\n",
    "    n = max(nums)\n",
    "    num_set = set(nums)\n",
    "    missing_numbers = []\n",
    "    for i in range(n):\n",
    "        if i not in num_set:\n",
    "            missing_numbers.append(i)\n",
    "    if not missing_numbers:\n",
    "        return [-1]  \n",
    "    else:\n",
    "        return missing_numbers\n",
    "\n",
    "nums = [0, 2, 5]\n",
    "print(missing_num(nums))\n"
   ]
  },
  {
   "cell_type": "markdown",
   "metadata": {},
   "source": [
    "\n",
    "-   Explain why their solution works in your own words.\n"
   ]
  },
  {
   "cell_type": "code",
   "execution_count": null,
   "metadata": {},
   "outputs": [],
   "source": [
    "# Answer is here \n",
    "\n",
    "# Their solution works as follows:\n",
    "\n",
    "# It finds the maximum number in the input list nums to determine the range of numbers to check.\n",
    "# Converts the list nums into a set num_set to allow for O(1) time complexity checks.\n",
    "# Initializes an empty list missing_numbers.\n",
    "# Iterates from 0 to n-1 and checks if each number is in num_set.\n",
    "# If a number is missing, it adds it to missing_numbers.\n",
    "# After the loop, it checks if missing_numbers is empty. If it is, it returns [-1], indicating no missing numbers. \n",
    "# Otherwise, it returns the list of missing numbers."
   ]
  },
  {
   "cell_type": "markdown",
   "metadata": {},
   "source": [
    "\n",
    "-   Explain the problem’s time and space complexity in your own words.\n"
   ]
  },
  {
   "cell_type": "code",
   "execution_count": null,
   "metadata": {},
   "outputs": [],
   "source": [
    "# Your answer here\n",
    "# Time Complexity:\n",
    "\n",
    "# Finding the maximum number in the list: O(n), where n is the length of the list nums.\n",
    "# Creating a set from the list: O(n).\n",
    "# Iterating from 0 to n-1 and checking if each number is in the set: O(n), with O(1) for each membership check.\n",
    "# Overall time complexity: O(n).\n",
    "# Space Complexity:\n",
    "\n",
    "# The space used by the set num_set: O(n).\n",
    "# The space used by the list missing_numbers: O(n).\n",
    "# Overall space complexity: O(n)."
   ]
  },
  {
   "cell_type": "markdown",
   "metadata": {},
   "source": [
    "\n",
    "-   Critique your partner's solution, including explanation, and if there is anything that should be adjusted.\n"
   ]
  },
  {
   "cell_type": "code",
   "execution_count": null,
   "metadata": {},
   "outputs": [],
   "source": [
    "# Your answer here\n",
    "# My partner's solution correctly identifies missing numbers but has a few inefficiencies and inconsistencies:\n",
    "\n",
    "# The function iterates from 0 to n-1. If the input list contains the number n and it's the only missing number, it won't be detected. The iteration should include n.\n",
    "# Returning [-1] in a list when no numbers are missing is inconsistent with the expected output. The function should return an empty list instead.\n",
    "# Suggested Adjustments:\n",
    "\n",
    "# Adjust the iteration range to include n.\n",
    "# Ensure the return type is consistent with the problem requirements by returning an empty list if no numbers are missing."
   ]
  },
  {
   "cell_type": "code",
   "execution_count": 5,
   "metadata": {},
   "outputs": [
    {
     "name": "stdout",
     "output_type": "stream",
     "text": [
      "[1, 3, 4]\n"
     ]
    }
   ],
   "source": [
    "from typing import List\n",
    "def missing_num(nums: List[int]) -> List[int]:\n",
    "    if not nums:  \n",
    "        return [-1]\n",
    "    \n",
    "    n = max(nums)\n",
    "    num_set = set(nums)\n",
    "    \n",
    "    missing_numbers = []\n",
    "    for i in range(n + 1): \n",
    "        if i not in num_set:\n",
    "            missing_numbers.append(i)\n",
    "    \n",
    "    if not missing_numbers:\n",
    "        return [-1]\n",
    "    else:\n",
    "        return missing_numbers\n",
    "nums = [0, 2, 5]\n",
    "\n",
    "print(missing_num(nums))  # Output: [1, 3, 4]\n"
   ]
  },
  {
   "cell_type": "markdown",
   "metadata": {},
   "source": [
    "\n",
    "## Part 3:\n",
    "\n",
    "Please write a 200 word reflection documenting your process from assignment 1, and your presentation and review experience with your partner at the bottom of the Jupyter Notebook under a new heading \"Reflection.\" Again, export this Notebook as pdf.\n"
   ]
  },
  {
   "cell_type": "markdown",
   "metadata": {},
   "source": [
    "### Reflection"
   ]
  },
  {
   "cell_type": "code",
   "execution_count": null,
   "metadata": {},
   "outputs": [],
   "source": [
    "# Your answer here\n",
    "\n",
    "# Reflecting on the process of Assignment 2, I approached the task with a clear understanding of the problem, which was identifying missing numbers in a given list within the range [0, n]. \n",
    "# My solution involved leveraging set operations to efficiently determine the missing numbers. \n",
    "# I first generated a complete set of numbers from 0 to n+1, then created a set from the input list. By subtracting the input set from the complete set, I obtained the missing numbers.\n",
    "# This approach ensured simplicity and clarity, resulting in a time complexity of O(n) and space complexity of O(n).\n",
    "\n",
    "# When reviewing my partner's code, I noted several strengths and areas for improvement. \n",
    "# Their code accurately identified missing numbers but had a few inefficiencies. Specifically, using max(nums) to determine the range and iterating through all numbers up to the maximum was less optimal than necessary. \n",
    "# Additionally, their function only checked up to n-1, which could miss the highest number in the range. Furthermore, returning [-1] in a list when no numbers are missing deviates from the expected output format.\n",
    "\n",
    "# To enhance my partner's code, I suggested adjusting the iteration range to n+1 and ensuring the return type consistently aligned with the problem requirements. \n",
    "# By incorporating these refinements, we improved the solution’s efficiency and accuracy. \n",
    "# Overall, the experience was very interesting and educational, highlighting the importance of clear problem understanding and the value of code review in optimizing solutions.\n"
   ]
  },
  {
   "cell_type": "markdown",
   "metadata": {},
   "source": [
    "\n",
    "## Evaluation Criteria\n",
    "\n",
    "We are looking for the similar points as Assignment 1\n",
    "\n",
    "-   Problem is accurately stated\n",
    "\n",
    "-   New example is correct and easily understandable\n",
    "\n",
    "-   Correctness, time, and space complexity of the coding solution\n",
    "\n",
    "-   Clarity in explaining why the solution works, its time and space complexity\n",
    "\n",
    "-   Quality of critique of your partner's assignment, if necessary\n"
   ]
  },
  {
   "cell_type": "markdown",
   "metadata": {},
   "source": [
    "## Submission Information\n",
    "\n",
    "🚨 **Please review our [Assignment Submission Guide](https://github.com/UofT-DSI/onboarding/blob/main/onboarding_documents/submissions.md)** 🚨 for detailed instructions on how to format, branch, and submit your work. Following these guidelines is crucial for your submissions to be evaluated correctly.\n",
    "\n",
    "### Submission Parameters:\n",
    "* Submission Due Date: `HH:MM AM/PM - DD/MM/YYYY`\n",
    "* The branch name for your repo should be: `assignment-2`\n",
    "* What to submit for this assignment:\n",
    "    * This Jupyter Notebook (assignment_2.ipynb) should be populated and should be the only change in your pull request.\n",
    "* What the pull request link should look like for this assignment: `https://github.com/<your_github_username>/algorithms_and_data_structures/pull/<pr_id>`\n",
    "    * Open a private window in your browser. Copy and paste the link to your pull request into the address bar. Make sure you can see your pull request properly. This helps the technical facilitator and learning support staff review your submission easily.\n",
    "\n",
    "Checklist:\n",
    "- [ ] Created a branch with the correct naming convention.\n",
    "- [ ] Ensured that the repository is public.\n",
    "- [ ] Reviewed the PR description guidelines and adhered to them.\n",
    "- [ ] Verify that the link is accessible in a private browser window.\n",
    "\n",
    "If you encounter any difficulties or have questions, please don't hesitate to reach out to our team via our Slack at `#cohort-3-help`. Our Technical Facilitators and Learning Support staff are here to help you navigate any challenges.\n"
   ]
  }
 ],
 "metadata": {
  "kernelspec": {
   "display_name": "dsi_participant",
   "language": "python",
   "name": "python3"
  },
  "language_info": {
   "codemirror_mode": {
    "name": "ipython",
    "version": 3
   },
   "file_extension": ".py",
   "mimetype": "text/x-python",
   "name": "python",
   "nbconvert_exporter": "python",
   "pygments_lexer": "ipython3",
   "version": "3.9.18"
  }
 },
 "nbformat": 4,
 "nbformat_minor": 2
}
