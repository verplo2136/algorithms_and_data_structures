{
 "cells": [
  {
   "cell_type": "code",
   "execution_count": null,
   "id": "f526d35b",
   "metadata": {},
   "outputs": [],
   "source": [
    "#Recursive function review"
   ]
  },
  {
   "cell_type": "code",
   "execution_count": 14,
   "id": "497c9492",
   "metadata": {},
   "outputs": [],
   "source": [
    "# Reverse a string\n",
    "# reverse_string(\"hello\") -> \"olleh\"\n",
    "def reverse_string(s):\n",
    "    if len(s) <= 1:\n",
    "        return s\n",
    "    else:\n",
    "        return reverse_string(s[1:]) + s[0]"
   ]
  },
  {
   "cell_type": "code",
   "execution_count": 17,
   "id": "0859612c",
   "metadata": {},
   "outputs": [
    {
     "data": {
      "text/plain": [
       "'olleh'"
      ]
     },
     "execution_count": 17,
     "metadata": {},
     "output_type": "execute_result"
    }
   ],
   "source": [
    "reverse_string(\"hello\")"
   ]
  },
  {
   "cell_type": "code",
   "execution_count": 18,
   "id": "3c3a7dbc",
   "metadata": {},
   "outputs": [
    {
     "data": {
      "text/plain": [
       "'h'"
      ]
     },
     "execution_count": 18,
     "metadata": {},
     "output_type": "execute_result"
    }
   ],
   "source": [
    "reverse_string(\"h\")"
   ]
  },
  {
   "cell_type": "code",
   "execution_count": 19,
   "id": "56615fc3",
   "metadata": {},
   "outputs": [
    {
     "data": {
      "text/plain": [
       "''"
      ]
     },
     "execution_count": 19,
     "metadata": {},
     "output_type": "execute_result"
    }
   ],
   "source": [
    "reverse_string(\"\")"
   ]
  },
  {
   "cell_type": "code",
   "execution_count": 23,
   "id": "d3c0bc58",
   "metadata": {},
   "outputs": [],
   "source": [
    "# Calculate the power of number using recursion\n",
    "# pre-condition: exponent needs to be an integer\n",
    "def power(base, exponent):\n",
    "    if exponent == 0:\n",
    "        return 1\n",
    "    elif exponent == 1:\n",
    "        return base\n",
    "    else:\n",
    "        return base * power(base, exponent-1)\n",
    "    "
   ]
  },
  {
   "cell_type": "code",
   "execution_count": 24,
   "id": "7b34a403",
   "metadata": {},
   "outputs": [
    {
     "data": {
      "text/plain": [
       "1024"
      ]
     },
     "execution_count": 24,
     "metadata": {},
     "output_type": "execute_result"
    }
   ],
   "source": [
    "power(2, 10)"
   ]
  },
  {
   "cell_type": "code",
   "execution_count": 25,
   "id": "48d54b03",
   "metadata": {},
   "outputs": [
    {
     "data": {
      "text/plain": [
       "65536"
      ]
     },
     "execution_count": 25,
     "metadata": {},
     "output_type": "execute_result"
    }
   ],
   "source": [
    "power(4, 8)"
   ]
  },
  {
   "cell_type": "code",
   "execution_count": 7,
   "id": "f1273c3b",
   "metadata": {},
   "outputs": [
    {
     "name": "stdout",
     "output_type": "stream",
     "text": [
      "False\n",
      "True\n",
      "0\n",
      "1\n",
      "5\n"
     ]
    }
   ],
   "source": [
    "# Count occurances in a list\n",
    "# return if value is inside list (using recursion, and not using \"in\")\n",
    "# Returns True/False\n",
    "def is_value_inside_list(lst, value):\n",
    "    if len(lst) == 0:\n",
    "        return False\n",
    "    elif lst[0] == value:\n",
    "        return True\n",
    "    else:\n",
    "        return is_value_inside_list(lst[1:], value)\n",
    "        \n",
    "print(is_value_inside_list([1, 2, 3, 4], 5))\n",
    "print(is_value_inside_list([1, 2, 3, 4], 3))\n",
    "\n",
    "def count_value_inside_lst(lst, value):\n",
    "    if len(lst) == 0:\n",
    "        return 0\n",
    "    else:\n",
    "        if lst[0] == value:\n",
    "            return 1 + count_value_inside_lst(lst[1:], value)\n",
    "        else:\n",
    "            return count_value_inside_lst(lst[1:], value)\n",
    "        \n",
    "print(count_value_inside_lst([1, 2, 3, 4], 5))\n",
    "print(count_value_inside_lst([1, 2, 3, 4], 3))\n",
    "print(count_value_inside_lst([1, 2, 2, 2, 3, 2, 4, 2], 2))"
   ]
  },
  {
   "cell_type": "code",
   "execution_count": 34,
   "id": "3b780616",
   "metadata": {},
   "outputs": [],
   "source": [
    "# check if string is palidrome (the string is the same forwards and backwards) (True/False)\n",
    "# racecar\n",
    "def is_palindrome(s):\n",
    "    if len(s) <= 1:\n",
    "        return True\n",
    "#     elif len(s) == 1:\n",
    "#         return True\n",
    "    else:\n",
    "        if s[0] == s[-1]:\n",
    "            return is_palindrome(s[1:-1])\n",
    "        else:\n",
    "            return False"
   ]
  },
  {
   "cell_type": "code",
   "execution_count": 35,
   "id": "22572c1b",
   "metadata": {},
   "outputs": [
    {
     "data": {
      "text/plain": [
       "True"
      ]
     },
     "execution_count": 35,
     "metadata": {},
     "output_type": "execute_result"
    }
   ],
   "source": [
    "is_palindrome(\"racecar\")"
   ]
  },
  {
   "cell_type": "code",
   "execution_count": 36,
   "id": "166971ff",
   "metadata": {},
   "outputs": [
    {
     "data": {
      "text/plain": [
       "False"
      ]
     },
     "execution_count": 36,
     "metadata": {},
     "output_type": "execute_result"
    }
   ],
   "source": [
    "is_palindrome(\"racecara\")"
   ]
  },
  {
   "cell_type": "code",
   "execution_count": 37,
   "id": "8e5f2743",
   "metadata": {},
   "outputs": [
    {
     "data": {
      "text/plain": [
       "True"
      ]
     },
     "execution_count": 37,
     "metadata": {},
     "output_type": "execute_result"
    }
   ],
   "source": [
    "is_palindrome(\"g\")"
   ]
  },
  {
   "cell_type": "code",
   "execution_count": 33,
   "id": "4808a6d5",
   "metadata": {},
   "outputs": [
    {
     "data": {
      "text/plain": [
       "True"
      ]
     },
     "execution_count": 33,
     "metadata": {},
     "output_type": "execute_result"
    }
   ],
   "source": [
    "is_palindrome(\"\")"
   ]
  },
  {
   "cell_type": "code",
   "execution_count": null,
   "id": "df8748b2",
   "metadata": {},
   "outputs": [],
   "source": [
    "# All these functions will have a time complexity of O(n)\n",
    "# All these functions will have a space complexity of O(n)"
   ]
  }
 ],
 "metadata": {
  "kernelspec": {
   "display_name": "Python 3 (ipykernel)",
   "language": "python",
   "name": "python3"
  },
  "language_info": {
   "codemirror_mode": {
    "name": "ipython",
    "version": 3
   },
   "file_extension": ".py",
   "mimetype": "text/x-python",
   "name": "python",
   "nbconvert_exporter": "python",
   "pygments_lexer": "ipython3",
   "version": "3.9.18"
  }
 },
 "nbformat": 4,
 "nbformat_minor": 5
}
