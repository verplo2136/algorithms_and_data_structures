{
 "cells": [
  {
   "cell_type": "code",
   "execution_count": 1,
   "id": "8366ad7a-a643-4af5-99a1-a05d46d590e6",
   "metadata": {},
   "outputs": [],
   "source": [
    "# Review of Previous lecture"
   ]
  },
  {
   "cell_type": "code",
   "execution_count": null,
   "id": "5dcc23c5-e1fb-4168-81a9-9655e46efd14",
   "metadata": {},
   "outputs": [],
   "source": [
    "# Slides 6"
   ]
  },
  {
   "cell_type": "code",
   "execution_count": 1,
   "id": "a2447158-9fe2-47b0-a835-1c90c52995ae",
   "metadata": {},
   "outputs": [],
   "source": [
    "def fib(n):\n",
    "    if n < 2:\n",
    "        return n\n",
    "    else:\n",
    "        return fib(n-1) + fib(n-2)"
   ]
  },
  {
   "cell_type": "code",
   "execution_count": 2,
   "id": "6ef961de-0a3e-4338-8c95-587e88d15f76",
   "metadata": {},
   "outputs": [
    {
     "ename": "KeyboardInterrupt",
     "evalue": "",
     "output_type": "error",
     "traceback": [
      "\u001b[0;31m---------------------------------------------------------------------------\u001b[0m",
      "\u001b[0;31mKeyboardInterrupt\u001b[0m                         Traceback (most recent call last)",
      "Cell \u001b[0;32mIn[2], line 1\u001b[0m\n\u001b[0;32m----> 1\u001b[0m \u001b[43mfib\u001b[49m\u001b[43m(\u001b[49m\u001b[38;5;241;43m50\u001b[39;49m\u001b[43m)\u001b[49m\n",
      "Cell \u001b[0;32mIn[1], line 5\u001b[0m, in \u001b[0;36mfib\u001b[0;34m(n)\u001b[0m\n\u001b[1;32m      3\u001b[0m     \u001b[38;5;28;01mreturn\u001b[39;00m n\n\u001b[1;32m      4\u001b[0m \u001b[38;5;28;01melse\u001b[39;00m:\n\u001b[0;32m----> 5\u001b[0m     \u001b[38;5;28;01mreturn\u001b[39;00m \u001b[43mfib\u001b[49m\u001b[43m(\u001b[49m\u001b[43mn\u001b[49m\u001b[38;5;241;43m-\u001b[39;49m\u001b[38;5;241;43m1\u001b[39;49m\u001b[43m)\u001b[49m \u001b[38;5;241m+\u001b[39m fib(n\u001b[38;5;241m-\u001b[39m\u001b[38;5;241m2\u001b[39m)\n",
      "Cell \u001b[0;32mIn[1], line 5\u001b[0m, in \u001b[0;36mfib\u001b[0;34m(n)\u001b[0m\n\u001b[1;32m      3\u001b[0m     \u001b[38;5;28;01mreturn\u001b[39;00m n\n\u001b[1;32m      4\u001b[0m \u001b[38;5;28;01melse\u001b[39;00m:\n\u001b[0;32m----> 5\u001b[0m     \u001b[38;5;28;01mreturn\u001b[39;00m \u001b[43mfib\u001b[49m\u001b[43m(\u001b[49m\u001b[43mn\u001b[49m\u001b[38;5;241;43m-\u001b[39;49m\u001b[38;5;241;43m1\u001b[39;49m\u001b[43m)\u001b[49m \u001b[38;5;241m+\u001b[39m fib(n\u001b[38;5;241m-\u001b[39m\u001b[38;5;241m2\u001b[39m)\n",
      "    \u001b[0;31m[... skipping similar frames: fib at line 5 (31 times)]\u001b[0m\n",
      "Cell \u001b[0;32mIn[1], line 5\u001b[0m, in \u001b[0;36mfib\u001b[0;34m(n)\u001b[0m\n\u001b[1;32m      3\u001b[0m     \u001b[38;5;28;01mreturn\u001b[39;00m n\n\u001b[1;32m      4\u001b[0m \u001b[38;5;28;01melse\u001b[39;00m:\n\u001b[0;32m----> 5\u001b[0m     \u001b[38;5;28;01mreturn\u001b[39;00m fib(n\u001b[38;5;241m-\u001b[39m\u001b[38;5;241m1\u001b[39m) \u001b[38;5;241m+\u001b[39m \u001b[43mfib\u001b[49m\u001b[43m(\u001b[49m\u001b[43mn\u001b[49m\u001b[38;5;241;43m-\u001b[39;49m\u001b[38;5;241;43m2\u001b[39;49m\u001b[43m)\u001b[49m\n",
      "Cell \u001b[0;32mIn[1], line 1\u001b[0m, in \u001b[0;36mfib\u001b[0;34m(n)\u001b[0m\n\u001b[0;32m----> 1\u001b[0m \u001b[38;5;28;01mdef\u001b[39;00m \u001b[38;5;21mfib\u001b[39m(n):\n\u001b[1;32m      2\u001b[0m     \u001b[38;5;28;01mif\u001b[39;00m n \u001b[38;5;241m<\u001b[39m \u001b[38;5;241m2\u001b[39m:\n\u001b[1;32m      3\u001b[0m         \u001b[38;5;28;01mreturn\u001b[39;00m n\n",
      "\u001b[0;31mKeyboardInterrupt\u001b[0m: "
     ]
    }
   ],
   "source": [
    "fib(50)"
   ]
  },
  {
   "cell_type": "code",
   "execution_count": 3,
   "id": "5345f834-57ed-47e0-a74d-63b9a0fe9071",
   "metadata": {},
   "outputs": [],
   "source": [
    "cache = {0: 0, 1: 1}\n",
    "\n",
    "def fib_cache(n):\n",
    "    if n in cache:\n",
    "        return cache[n]\n",
    "    else:\n",
    "        cache[n] = fib_cache(n - 1) + fib_cache(n - 2)\n",
    "        return cache[n]"
   ]
  },
  {
   "cell_type": "code",
   "execution_count": 4,
   "id": "80adf230-d577-44bd-9f54-5e200331b9b0",
   "metadata": {},
   "outputs": [
    {
     "data": {
      "text/plain": [
       "43466557686937456435688527675040625802564660517371780402481729089536555417949051890403879840079255169295922593080322634775209689623239873322471161642996440906533187938298969649928516003704476137795166849228875"
      ]
     },
     "execution_count": 4,
     "metadata": {},
     "output_type": "execute_result"
    }
   ],
   "source": [
    "fib_cache(1000)"
   ]
  },
  {
   "cell_type": "code",
   "execution_count": 6,
   "id": "585d75ad-221b-44ee-ac5b-2edfd1c78fda",
   "metadata": {},
   "outputs": [],
   "source": [
    "from functools import lru_cache\n",
    "\n",
    "# 0, 1, 2 .. 10\n",
    "\n",
    "@lru_cache(maxsize=10)\n",
    "def fib_rec(n):\n",
    "    if n == 0 or n == 1:\n",
    "        return n\n",
    "    else:\n",
    "        return fib_rec(n-1) + fib_rec(n-2)"
   ]
  },
  {
   "cell_type": "code",
   "execution_count": 9,
   "id": "17fabb36-b734-4eb4-ad48-d4ea3d8d9fab",
   "metadata": {
    "scrolled": true
   },
   "outputs": [
    {
     "data": {
      "text/plain": [
       "43466557686937456435688527675040625802564660517371780402481729089536555417949051890403879840079255169295922593080322634775209689623239873322471161642996440906533187938298969649928516003704476137795166849228875"
      ]
     },
     "execution_count": 9,
     "metadata": {},
     "output_type": "execute_result"
    }
   ],
   "source": [
    "fib_rec(1000)\n",
    "\n",
    "#"
   ]
  },
  {
   "cell_type": "code",
   "execution_count": null,
   "id": "adce3ba5",
   "metadata": {},
   "outputs": [],
   "source": []
  },
  {
   "cell_type": "code",
   "execution_count": null,
   "id": "62cc1355",
   "metadata": {},
   "outputs": [],
   "source": []
  },
  {
   "cell_type": "code",
   "execution_count": null,
   "id": "b45d91b9",
   "metadata": {},
   "outputs": [],
   "source": []
  },
  {
   "cell_type": "code",
   "execution_count": null,
   "id": "6b93a95e",
   "metadata": {},
   "outputs": [],
   "source": []
  },
  {
   "cell_type": "code",
   "execution_count": null,
   "id": "f96608c0",
   "metadata": {},
   "outputs": [],
   "source": []
  },
  {
   "cell_type": "code",
   "execution_count": null,
   "id": "d4e7c6b8",
   "metadata": {},
   "outputs": [],
   "source": []
  },
  {
   "cell_type": "code",
   "execution_count": null,
   "id": "0217d08f",
   "metadata": {},
   "outputs": [],
   "source": []
  },
  {
   "cell_type": "code",
   "execution_count": null,
   "id": "a72ec784",
   "metadata": {},
   "outputs": [],
   "source": []
  },
  {
   "cell_type": "code",
   "execution_count": 10,
   "id": "2b9c0ae4-8384-4eaa-89e6-e4dfead51552",
   "metadata": {},
   "outputs": [],
   "source": [
    "# pip install pandas\n",
    "import pandas as pd\n",
    "import numpy as np\n",
    "import timeit\n",
    "import os"
   ]
  },
  {
   "cell_type": "code",
   "execution_count": 11,
   "id": "1e01434d-db81-4bef-ad88-ee23f3978a2f",
   "metadata": {
    "scrolled": true
   },
   "outputs": [
    {
     "data": {
      "text/plain": [
       "122472"
      ]
     },
     "execution_count": 11,
     "metadata": {},
     "output_type": "execute_result"
    }
   ],
   "source": [
    "# See how many files we have\n",
    "number_of_files = 122472\n",
    "number_of_files"
   ]
  },
  {
   "cell_type": "code",
   "execution_count": 14,
   "id": "bb4f0bdd-2dbe-4c1b-9dcf-b192d5c39ac6",
   "metadata": {
    "scrolled": true
   },
   "outputs": [
    {
     "data": {
      "text/html": [
       "<div>\n",
       "<style scoped>\n",
       "    .dataframe tbody tr th:only-of-type {\n",
       "        vertical-align: middle;\n",
       "    }\n",
       "\n",
       "    .dataframe tbody tr th {\n",
       "        vertical-align: top;\n",
       "    }\n",
       "\n",
       "    .dataframe thead th {\n",
       "        text-align: right;\n",
       "    }\n",
       "</style>\n",
       "<table border=\"1\" class=\"dataframe\">\n",
       "  <thead>\n",
       "    <tr style=\"text-align: right;\">\n",
       "      <th></th>\n",
       "      <th>0</th>\n",
       "      <th>4096</th>\n",
       "      <th>-1046</th>\n",
       "      <th>0.1</th>\n",
       "      <th>-4</th>\n",
       "      <th>-648</th>\n",
       "      <th>-40</th>\n",
       "      <th>-17</th>\n",
       "      <th>28</th>\n",
       "      <th>-254</th>\n",
       "      <th>...</th>\n",
       "      <th>-10.26</th>\n",
       "      <th>-22.16</th>\n",
       "      <th>4.27</th>\n",
       "      <th>-20.15</th>\n",
       "      <th>19.13</th>\n",
       "      <th>-19.23</th>\n",
       "      <th>19.14</th>\n",
       "      <th>2.34</th>\n",
       "      <th>13.20</th>\n",
       "      <th>1.35</th>\n",
       "    </tr>\n",
       "  </thead>\n",
       "  <tbody>\n",
       "    <tr>\n",
       "      <th>0</th>\n",
       "      <td>0</td>\n",
       "      <td>0</td>\n",
       "      <td>0</td>\n",
       "      <td>0</td>\n",
       "      <td>0</td>\n",
       "      <td>0</td>\n",
       "      <td>0</td>\n",
       "      <td>0</td>\n",
       "      <td>0</td>\n",
       "      <td>0</td>\n",
       "      <td>...</td>\n",
       "      <td>0</td>\n",
       "      <td>0</td>\n",
       "      <td>0</td>\n",
       "      <td>0</td>\n",
       "      <td>0</td>\n",
       "      <td>0</td>\n",
       "      <td>0</td>\n",
       "      <td>0</td>\n",
       "      <td>0</td>\n",
       "      <td>0</td>\n",
       "    </tr>\n",
       "    <tr>\n",
       "      <th>1</th>\n",
       "      <td>0</td>\n",
       "      <td>0</td>\n",
       "      <td>0</td>\n",
       "      <td>0</td>\n",
       "      <td>0</td>\n",
       "      <td>0</td>\n",
       "      <td>0</td>\n",
       "      <td>0</td>\n",
       "      <td>0</td>\n",
       "      <td>0</td>\n",
       "      <td>...</td>\n",
       "      <td>0</td>\n",
       "      <td>0</td>\n",
       "      <td>0</td>\n",
       "      <td>0</td>\n",
       "      <td>0</td>\n",
       "      <td>0</td>\n",
       "      <td>0</td>\n",
       "      <td>0</td>\n",
       "      <td>0</td>\n",
       "      <td>0</td>\n",
       "    </tr>\n",
       "    <tr>\n",
       "      <th>2</th>\n",
       "      <td>0</td>\n",
       "      <td>0</td>\n",
       "      <td>0</td>\n",
       "      <td>0</td>\n",
       "      <td>0</td>\n",
       "      <td>0</td>\n",
       "      <td>0</td>\n",
       "      <td>0</td>\n",
       "      <td>0</td>\n",
       "      <td>0</td>\n",
       "      <td>...</td>\n",
       "      <td>0</td>\n",
       "      <td>0</td>\n",
       "      <td>0</td>\n",
       "      <td>0</td>\n",
       "      <td>0</td>\n",
       "      <td>0</td>\n",
       "      <td>0</td>\n",
       "      <td>0</td>\n",
       "      <td>0</td>\n",
       "      <td>0</td>\n",
       "    </tr>\n",
       "    <tr>\n",
       "      <th>3</th>\n",
       "      <td>0</td>\n",
       "      <td>0</td>\n",
       "      <td>0</td>\n",
       "      <td>0</td>\n",
       "      <td>0</td>\n",
       "      <td>0</td>\n",
       "      <td>0</td>\n",
       "      <td>0</td>\n",
       "      <td>0</td>\n",
       "      <td>0</td>\n",
       "      <td>...</td>\n",
       "      <td>0</td>\n",
       "      <td>0</td>\n",
       "      <td>0</td>\n",
       "      <td>0</td>\n",
       "      <td>0</td>\n",
       "      <td>0</td>\n",
       "      <td>0</td>\n",
       "      <td>0</td>\n",
       "      <td>0</td>\n",
       "      <td>0</td>\n",
       "    </tr>\n",
       "    <tr>\n",
       "      <th>4</th>\n",
       "      <td>0</td>\n",
       "      <td>0</td>\n",
       "      <td>0</td>\n",
       "      <td>0</td>\n",
       "      <td>0</td>\n",
       "      <td>0</td>\n",
       "      <td>0</td>\n",
       "      <td>0</td>\n",
       "      <td>0</td>\n",
       "      <td>0</td>\n",
       "      <td>...</td>\n",
       "      <td>0</td>\n",
       "      <td>0</td>\n",
       "      <td>0</td>\n",
       "      <td>0</td>\n",
       "      <td>0</td>\n",
       "      <td>0</td>\n",
       "      <td>0</td>\n",
       "      <td>0</td>\n",
       "      <td>0</td>\n",
       "      <td>0</td>\n",
       "    </tr>\n",
       "    <tr>\n",
       "      <th>...</th>\n",
       "      <td>...</td>\n",
       "      <td>...</td>\n",
       "      <td>...</td>\n",
       "      <td>...</td>\n",
       "      <td>...</td>\n",
       "      <td>...</td>\n",
       "      <td>...</td>\n",
       "      <td>...</td>\n",
       "      <td>...</td>\n",
       "      <td>...</td>\n",
       "      <td>...</td>\n",
       "      <td>...</td>\n",
       "      <td>...</td>\n",
       "      <td>...</td>\n",
       "      <td>...</td>\n",
       "      <td>...</td>\n",
       "      <td>...</td>\n",
       "      <td>...</td>\n",
       "      <td>...</td>\n",
       "      <td>...</td>\n",
       "      <td>...</td>\n",
       "    </tr>\n",
       "    <tr>\n",
       "      <th>1279</th>\n",
       "      <td>0</td>\n",
       "      <td>0</td>\n",
       "      <td>0</td>\n",
       "      <td>0</td>\n",
       "      <td>0</td>\n",
       "      <td>0</td>\n",
       "      <td>0</td>\n",
       "      <td>0</td>\n",
       "      <td>0</td>\n",
       "      <td>0</td>\n",
       "      <td>...</td>\n",
       "      <td>0</td>\n",
       "      <td>0</td>\n",
       "      <td>0</td>\n",
       "      <td>0</td>\n",
       "      <td>0</td>\n",
       "      <td>0</td>\n",
       "      <td>0</td>\n",
       "      <td>0</td>\n",
       "      <td>0</td>\n",
       "      <td>0</td>\n",
       "    </tr>\n",
       "    <tr>\n",
       "      <th>1280</th>\n",
       "      <td>0</td>\n",
       "      <td>0</td>\n",
       "      <td>0</td>\n",
       "      <td>0</td>\n",
       "      <td>0</td>\n",
       "      <td>0</td>\n",
       "      <td>0</td>\n",
       "      <td>0</td>\n",
       "      <td>0</td>\n",
       "      <td>0</td>\n",
       "      <td>...</td>\n",
       "      <td>0</td>\n",
       "      <td>0</td>\n",
       "      <td>0</td>\n",
       "      <td>0</td>\n",
       "      <td>0</td>\n",
       "      <td>0</td>\n",
       "      <td>0</td>\n",
       "      <td>0</td>\n",
       "      <td>0</td>\n",
       "      <td>0</td>\n",
       "    </tr>\n",
       "    <tr>\n",
       "      <th>1281</th>\n",
       "      <td>0</td>\n",
       "      <td>0</td>\n",
       "      <td>0</td>\n",
       "      <td>0</td>\n",
       "      <td>0</td>\n",
       "      <td>0</td>\n",
       "      <td>0</td>\n",
       "      <td>0</td>\n",
       "      <td>0</td>\n",
       "      <td>0</td>\n",
       "      <td>...</td>\n",
       "      <td>0</td>\n",
       "      <td>0</td>\n",
       "      <td>0</td>\n",
       "      <td>0</td>\n",
       "      <td>0</td>\n",
       "      <td>0</td>\n",
       "      <td>0</td>\n",
       "      <td>0</td>\n",
       "      <td>0</td>\n",
       "      <td>0</td>\n",
       "    </tr>\n",
       "    <tr>\n",
       "      <th>1282</th>\n",
       "      <td>0</td>\n",
       "      <td>0</td>\n",
       "      <td>0</td>\n",
       "      <td>0</td>\n",
       "      <td>0</td>\n",
       "      <td>0</td>\n",
       "      <td>0</td>\n",
       "      <td>0</td>\n",
       "      <td>0</td>\n",
       "      <td>0</td>\n",
       "      <td>...</td>\n",
       "      <td>0</td>\n",
       "      <td>0</td>\n",
       "      <td>0</td>\n",
       "      <td>0</td>\n",
       "      <td>0</td>\n",
       "      <td>0</td>\n",
       "      <td>0</td>\n",
       "      <td>0</td>\n",
       "      <td>0</td>\n",
       "      <td>0</td>\n",
       "    </tr>\n",
       "    <tr>\n",
       "      <th>1283</th>\n",
       "      <td>0</td>\n",
       "      <td>0</td>\n",
       "      <td>0</td>\n",
       "      <td>0</td>\n",
       "      <td>0</td>\n",
       "      <td>0</td>\n",
       "      <td>0</td>\n",
       "      <td>0</td>\n",
       "      <td>0</td>\n",
       "      <td>0</td>\n",
       "      <td>...</td>\n",
       "      <td>0</td>\n",
       "      <td>0</td>\n",
       "      <td>0</td>\n",
       "      <td>0</td>\n",
       "      <td>0</td>\n",
       "      <td>0</td>\n",
       "      <td>0</td>\n",
       "      <td>0</td>\n",
       "      <td>0</td>\n",
       "      <td>0</td>\n",
       "    </tr>\n",
       "  </tbody>\n",
       "</table>\n",
       "<p>1284 rows × 1488 columns</p>\n",
       "</div>"
      ],
      "text/plain": [
       "      0  4096  -1046  0.1  -4  -648  -40  -17  28  -254  ...  -10.26  -22.16  \\\n",
       "0     0     0      0    0   0     0    0    0   0     0  ...       0       0   \n",
       "1     0     0      0    0   0     0    0    0   0     0  ...       0       0   \n",
       "2     0     0      0    0   0     0    0    0   0     0  ...       0       0   \n",
       "3     0     0      0    0   0     0    0    0   0     0  ...       0       0   \n",
       "4     0     0      0    0   0     0    0    0   0     0  ...       0       0   \n",
       "...  ..   ...    ...  ...  ..   ...  ...  ...  ..   ...  ...     ...     ...   \n",
       "1279  0     0      0    0   0     0    0    0   0     0  ...       0       0   \n",
       "1280  0     0      0    0   0     0    0    0   0     0  ...       0       0   \n",
       "1281  0     0      0    0   0     0    0    0   0     0  ...       0       0   \n",
       "1282  0     0      0    0   0     0    0    0   0     0  ...       0       0   \n",
       "1283  0     0      0    0   0     0    0    0   0     0  ...       0       0   \n",
       "\n",
       "      4.27  -20.15  19.13  -19.23  19.14  2.34  13.20  1.35  \n",
       "0        0       0      0       0      0     0      0     0  \n",
       "1        0       0      0       0      0     0      0     0  \n",
       "2        0       0      0       0      0     0      0     0  \n",
       "3        0       0      0       0      0     0      0     0  \n",
       "4        0       0      0       0      0     0      0     0  \n",
       "...    ...     ...    ...     ...    ...   ...    ...   ...  \n",
       "1279     0       0      0       0      0     0      0     0  \n",
       "1280     0       0      0       0      0     0      0     0  \n",
       "1281     0       0      0       0      0     0      0     0  \n",
       "1282     0       0      0       0      0     0      0     0  \n",
       "1283     0       0      0       0      0     0      0     0  \n",
       "\n",
       "[1284 rows x 1488 columns]"
      ]
     },
     "execution_count": 14,
     "metadata": {},
     "output_type": "execute_result"
    }
   ],
   "source": [
    "# See what the file looks like\n",
    "df = pd.read_csv(\"test.csv\", index_col=0)\n",
    "df"
   ]
  },
  {
   "cell_type": "code",
   "execution_count": 15,
   "id": "40e96c16-5b73-4396-a36b-3db11402343c",
   "metadata": {},
   "outputs": [
    {
     "ename": "SyntaxError",
     "evalue": "invalid syntax (2465243673.py, line 1)",
     "output_type": "error",
     "traceback": [
      "\u001b[0;36m  Cell \u001b[0;32mIn[15], line 1\u001b[0;36m\u001b[0m\n\u001b[0;31m    window size, step size, overlap, windows,\u001b[0m\n\u001b[0m           ^\u001b[0m\n\u001b[0;31mSyntaxError\u001b[0m\u001b[0;31m:\u001b[0m invalid syntax\n"
     ]
    }
   ],
   "source": [
    "window size, step size, overlap, windows, "
   ]
  },
  {
   "cell_type": "code",
   "execution_count": 16,
   "id": "e9b7a7c2-f6af-47c7-b045-bb642a93e1ad",
   "metadata": {},
   "outputs": [],
   "source": [
    "\n",
    "# Convert the fft representation of the audio back to the waveform\n",
    "def fft_to_audio(fft_df, fs = 44100):\n",
    "    fft_df = np.array(fft_df.drop(fft_df.columns[[0,1]], axis=1))\n",
    "    arr = np.zeros((fft_df.shape[0], 4096))\n",
    "    arr[:fft_df.shape[0], :fft_df.shape[1]] = fft_df\n",
    "    lst = []\n",
    "    \n",
    "    for ar in arr:\n",
    "        i = 0\n",
    "        lst1=[]\n",
    "        while i < len(ar):\n",
    "            lst1.append(complex(ar[i], ar[i+1]))\n",
    "            i+=2\n",
    "        lst.append(lst1)\n",
    "        \n",
    "    fft = np.array(lst)\n",
    "    data = np.fft.irfft(fft)\n",
    "    wav_data = np.concatenate(data)\n",
    "    return wav_data"
   ]
  },
  {
   "cell_type": "code",
   "execution_count": 17,
   "id": "08c613fc-777b-409c-9244-ee908352d199",
   "metadata": {},
   "outputs": [
    {
     "data": {
      "text/plain": [
       "array([0., 0., 0., ..., 0., 0., 0.])"
      ]
     },
     "execution_count": 17,
     "metadata": {},
     "output_type": "execute_result"
    }
   ],
   "source": [
    "fft_to_audio(df)"
   ]
  },
  {
   "cell_type": "code",
   "execution_count": 18,
   "id": "6e2e570a-9974-480d-a170-62722ae7c25d",
   "metadata": {},
   "outputs": [
    {
     "data": {
      "text/plain": [
       "1.9320821619994604"
      ]
     },
     "execution_count": 18,
     "metadata": {},
     "output_type": "execute_result"
    }
   ],
   "source": [
    "time = timeit.timeit('fft_to_audio(df)', number=1, globals=globals())\n",
    "time"
   ]
  },
  {
   "cell_type": "code",
   "execution_count": 19,
   "id": "93d1b3e9-390b-434f-a77e-c74b18e03bbb",
   "metadata": {},
   "outputs": [
    {
     "name": "stdout",
     "output_type": "stream",
     "text": [
      "236625.9665443979 seconds\n",
      "3943.7661090732986 minutes\n",
      "65.72943515122164 hours\n",
      "2.738726464634235 days\n"
     ]
    }
   ],
   "source": [
    "print(str(number_of_files * time) + \" seconds\")\n",
    "print(str((number_of_files * time)/60) + \" minutes\")\n",
    "print(str((number_of_files * time)/3600) + \" hours\")\n",
    "print(str((number_of_files * time)/86400) + \" days\")"
   ]
  },
  {
   "cell_type": "code",
   "execution_count": null,
   "id": "906155fd-4322-4578-9653-b01678e85111",
   "metadata": {},
   "outputs": [],
   "source": []
  },
  {
   "cell_type": "code",
   "execution_count": null,
   "id": "7bb1d59f-06a7-4a52-9174-c067ff5d20d6",
   "metadata": {},
   "outputs": [],
   "source": []
  },
  {
   "cell_type": "code",
   "execution_count": 20,
   "id": "ac3b0396-d91b-43ae-9161-ecaff5d62cc1",
   "metadata": {},
   "outputs": [],
   "source": [
    "def fft_to_audio_optimized(fft_df, fs = 44100):\n",
    "    fft_df = np.array(fft_df.drop(fft_df.columns[[0,1]], axis=1))\n",
    "    arr = np.zeros((fft_df.shape[0], 4096))\n",
    "    arr[:fft_df.shape[0], :fft_df.shape[1]] = fft_df\n",
    "\n",
    "    fft = arr[::,::2] + (arr[::,1::2]*1j)\n",
    "    \n",
    "    data = np.fft.irfft(fft)\n",
    "    wav_data = np.concatenate(data)\n",
    "    return wav_data"
   ]
  },
  {
   "cell_type": "code",
   "execution_count": 21,
   "id": "d7fa37ce-400f-4c2f-8f9b-9d0439d3a7cd",
   "metadata": {},
   "outputs": [
    {
     "data": {
      "text/plain": [
       "array([0., 0., 0., ..., 0., 0., 0.])"
      ]
     },
     "execution_count": 21,
     "metadata": {},
     "output_type": "execute_result"
    }
   ],
   "source": [
    "fft_to_audio_optimized(df)"
   ]
  },
  {
   "cell_type": "code",
   "execution_count": 22,
   "id": "4dbd178a-b523-40cc-80d9-3d452b6a6d37",
   "metadata": {},
   "outputs": [
    {
     "data": {
      "text/plain": [
       "0.24670737399992504"
      ]
     },
     "execution_count": 22,
     "metadata": {},
     "output_type": "execute_result"
    }
   ],
   "source": [
    "time = timeit.timeit('fft_to_audio_optimized(df)', number=1, globals=globals())\n",
    "time"
   ]
  },
  {
   "cell_type": "code",
   "execution_count": 54,
   "id": "ca66063f-6e94-44dd-868f-3f483cf6429b",
   "metadata": {},
   "outputs": [
    {
     "name": "stdout",
     "output_type": "stream",
     "text": [
      "42862.91846905785 seconds\n",
      "714.3819744842974 minutes\n",
      "11.906366241404958 hours\n",
      "0.49609859339187323 days\n"
     ]
    }
   ],
   "source": [
    "print(str(number_of_files * time) + \" seconds\")\n",
    "print(str((number_of_files * time)/60) + \" minutes\")\n",
    "print(str((number_of_files * time)/3600) + \" hours\")\n",
    "print(str((number_of_files * time)/86400) + \" days\")"
   ]
  },
  {
   "cell_type": "code",
   "execution_count": null,
   "id": "de6c65e8-81ea-444e-b901-4cb6d7a0f65a",
   "metadata": {},
   "outputs": [],
   "source": []
  },
  {
   "cell_type": "code",
   "execution_count": 55,
   "id": "69f9a32f-8f44-4571-be53-1fbf4221e0ca",
   "metadata": {},
   "outputs": [],
   "source": [
    "if False:\n",
    "    from joblib import Parallel, delayed\n",
    "    res = Parallel(n_jobs=64)(delayed(fft_to_audio_optimized)(i) for i in all_files)# won't o"
   ]
  },
  {
   "cell_type": "code",
   "execution_count": 23,
   "id": "72db7941-b73c-4bc1-972b-4d7c298b5d7b",
   "metadata": {},
   "outputs": [
    {
     "name": "stdout",
     "output_type": "stream",
     "text": [
      "472.10539857060655 seconds\n",
      "7.868423309510109 minutes\n",
      "0.13114038849183515 hours\n",
      "0.005464182853826465 days\n"
     ]
    }
   ],
   "source": [
    "print(str(((number_of_files) * time)/64) + \" seconds\")\n",
    "print(str((((number_of_files) * time)/64)/60) + \" minutes\")\n",
    "print(str((((number_of_files) * time)/64)/3600) + \" hours\")\n",
    "print(str((((number_of_files) * time)/64)/86400) + \" days\")"
   ]
  },
  {
   "cell_type": "code",
   "execution_count": null,
   "id": "c0d4dda8-cf0e-4bd1-a293-f318145931bf",
   "metadata": {},
   "outputs": [],
   "source": []
  },
  {
   "cell_type": "code",
   "execution_count": null,
   "id": "4c5edc17-fce3-4582-b773-1464ddbebdcf",
   "metadata": {},
   "outputs": [],
   "source": []
  },
  {
   "cell_type": "code",
   "execution_count": null,
   "id": "23153c38-debc-49c7-b790-0cd9fb22202d",
   "metadata": {},
   "outputs": [],
   "source": []
  },
  {
   "cell_type": "code",
   "execution_count": 59,
   "id": "81b49f7b-57ba-4839-a5ff-11104afe097b",
   "metadata": {},
   "outputs": [],
   "source": [
    "def maximize_profit(prices):\n",
    "    if len(prices) == 0:\n",
    "        return 0\n",
    "    if len(prices) == 1:\n",
    "        return 0\n",
    "\n",
    "    profit = 0\n",
    "    for i in range(1, len(prices)):\n",
    "        if prices[i] > prices[i-1]:\n",
    "            profit += prices[i] - prices[i-1]\n",
    "\n",
    "    return profit"
   ]
  },
  {
   "cell_type": "code",
   "execution_count": 60,
   "id": "c65b584e-99e4-4c8b-aeaf-087ac727eab3",
   "metadata": {},
   "outputs": [
    {
     "data": {
      "text/plain": [
       "7"
      ]
     },
     "execution_count": 60,
     "metadata": {},
     "output_type": "execute_result"
    }
   ],
   "source": [
    "# INPUT\n",
    "prices = [7,1,5,3,6,4]\n",
    "\n",
    "maximize_profit(prices)\n",
    "# OUTPUT\n",
    "7"
   ]
  },
  {
   "cell_type": "code",
   "execution_count": null,
   "id": "12d27f40-3fef-447a-93f0-5f2b2e7d8124",
   "metadata": {},
   "outputs": [],
   "source": []
  },
  {
   "cell_type": "code",
   "execution_count": null,
   "id": "4e39d551-7522-45e1-86b9-b5a87d4ec4e9",
   "metadata": {},
   "outputs": [],
   "source": []
  },
  {
   "cell_type": "code",
   "execution_count": null,
   "id": "e93a86a5-e47e-4014-8cc0-2764671e8757",
   "metadata": {},
   "outputs": [],
   "source": []
  },
  {
   "cell_type": "code",
   "execution_count": null,
   "id": "1d0b5f75-1f94-40bd-bad0-a08f7fd14702",
   "metadata": {},
   "outputs": [],
   "source": []
  },
  {
   "cell_type": "code",
   "execution_count": null,
   "id": "5667c58f-53ff-4922-9098-0493d80d819a",
   "metadata": {},
   "outputs": [],
   "source": []
  },
  {
   "cell_type": "code",
   "execution_count": null,
   "id": "08d9ed66-5e31-48e7-b1df-cf52be5d2e96",
   "metadata": {},
   "outputs": [],
   "source": []
  }
 ],
 "metadata": {
  "kernelspec": {
   "display_name": "Python 3 (ipykernel)",
   "language": "python",
   "name": "python3"
  },
  "language_info": {
   "codemirror_mode": {
    "name": "ipython",
    "version": 3
   },
   "file_extension": ".py",
   "mimetype": "text/x-python",
   "name": "python",
   "nbconvert_exporter": "python",
   "pygments_lexer": "ipython3",
   "version": "3.9.18"
  }
 },
 "nbformat": 4,
 "nbformat_minor": 5
}
