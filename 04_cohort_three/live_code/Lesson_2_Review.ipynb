{
 "cells": [
  {
   "cell_type": "code",
   "execution_count": null,
   "id": "9f6ab146",
   "metadata": {},
   "outputs": [],
   "source": []
  },
  {
   "cell_type": "code",
   "execution_count": null,
   "id": "2dca1b70-f3f1-40f9-905c-1305239bf1b6",
   "metadata": {
    "id": "2dca1b70-f3f1-40f9-905c-1305239bf1b6"
   },
   "outputs": [],
   "source": [
    "# Choose the best abstract data type for the following problems and then implement using\n",
    "# a python data structure\n",
    "# Think about:\n",
    "# What data we are storing (Numbers, strings, unique, repeatable, ordered, unordered, etc.)\n",
    "# How much data are we storing\n",
    "# What operations are most important to us, and what are not"
   ]
  },
  {
   "cell_type": "code",
   "execution_count": null,
   "id": "6788deef-bbd4-4339-a64c-d1f6bf68ecb1",
   "metadata": {
    "id": "6788deef-bbd4-4339-a64c-d1f6bf68ecb1"
   },
   "outputs": [],
   "source": [
    "# We're implementing a web browser, and we need to use a \n",
    "# data structure for using the back button\n",
    "\n",
    "history = []\n",
    "\n",
    "def visit_a_page(history, url): #O(1)\n",
    "    history.append(url)\n",
    "\n",
    "def go_back(history):\n",
    "    history.pop() # O(1)\n",
    "    return history[-1]\n",
    "\n",
    "visit_a_page(history, \"Google.com\")\n",
    "visit_a_page(history, \"youtube.com\")\n",
    "visit_a_page(history, \"amazon.com\")\n",
    "\n",
    "go_back(history)\n",
    "\n"
   ]
  },
  {
   "cell_type": "code",
   "execution_count": 7,
   "id": "dcdb8a92-e20b-46a0-8a25-ee5bf5a703cd",
   "metadata": {
    "id": "dcdb8a92-e20b-46a0-8a25-ee5bf5a703cd"
   },
   "outputs": [],
   "source": []
  },
  {
   "cell_type": "code",
   "execution_count": 9,
   "id": "4bedf252",
   "metadata": {},
   "outputs": [
    {
     "name": "stdout",
     "output_type": "stream",
     "text": [
      "None\n",
      "True\n",
      "False\n",
      "None\n",
      "{'sliaqat'}\n"
     ]
    }
   ],
   "source": []
  },
  {
   "cell_type": "code",
   "execution_count": null,
   "id": "2723817f",
   "metadata": {},
   "outputs": [],
   "source": []
  },
  {
   "cell_type": "code",
   "execution_count": null,
   "id": "a5a68cfd-1cf4-416d-becf-be36f77fd9fe",
   "metadata": {
    "id": "a5a68cfd-1cf4-416d-becf-be36f77fd9fe"
   },
   "outputs": [],
   "source": [
    "# We want to store usernames for a website. Our main operations will be\n",
    "# checking if a username already exists, and inserting a username.\n",
    "# We don't have any other operations or data to store\n",
    "\n",
    "usernames = set()\n",
    "\n",
    "def does_username_exist(usernames, username): #O(1)\n",
    "    return username in usernames\n",
    "\n",
    "def add_username(usernames, username): #O(1)\n",
    "    if not does_username_exist(usernames, username):\n",
    "        usernames.add(username)\n",
    "        \n",
    "print(add_username(usernames, \"sliaqat\"))\n",
    "print(does_username_exist(usernames, \"sliaqat\"))\n",
    "print(does_username_exist(usernames, \"dliaqat\"))\n",
    "print(add_username(usernames, \"sliaqat\"))\n",
    "\n",
    "print(usernames)\n",
    "\n",
    "\n"
   ]
  },
  {
   "cell_type": "code",
   "execution_count": 10,
   "id": "71915bf1",
   "metadata": {},
   "outputs": [],
   "source": []
  },
  {
   "cell_type": "code",
   "execution_count": 11,
   "id": "5fb6ec43",
   "metadata": {},
   "outputs": [],
   "source": []
  },
  {
   "cell_type": "code",
   "execution_count": 15,
   "id": "f022d182",
   "metadata": {},
   "outputs": [
    {
     "name": "stdout",
     "output_type": "stream",
     "text": [
      "Printing file4.pdf\n"
     ]
    },
    {
     "data": {
      "text/plain": [
       "'file4.pdf'"
      ]
     },
     "execution_count": 15,
     "metadata": {},
     "output_type": "execute_result"
    }
   ],
   "source": [
    "print_job(print_queue)"
   ]
  },
  {
   "cell_type": "code",
   "execution_count": null,
   "id": "5aa8c53f",
   "metadata": {},
   "outputs": [],
   "source": []
  },
  {
   "cell_type": "code",
   "execution_count": null,
   "id": "de9adcfa-ee57-4479-8d02-fe7c7e9be359",
   "metadata": {
    "id": "de9adcfa-ee57-4479-8d02-fe7c7e9be359"
   },
   "outputs": [],
   "source": [
    "# We're implementing the software that runs on a printer. We want a data structure \n",
    "# to store all the jobs sent to the printer that weneed to print\n",
    "\n",
    "print_queue = []\n",
    "\n",
    "\n",
    "def send_job(print_queue, doc_path): # O(1)\n",
    "    print_queue.append(doc_path)\n",
    "\n",
    "def print_job(print_queue): # O(n)\n",
    "    doc = print_queue.pop(0)\n",
    "    print(\"Printing \" + doc)\n",
    "    return doc\n",
    "\n",
    "send_job(print_queue, \"file1.pdf\")\n",
    "send_job(print_queue, \"file2.pdf\")\n",
    "send_job(print_queue, \"file3.pdf\")\n",
    "send_job(print_queue, \"file4.pdf\")\n",
    "\n",
    "print_job(print_queue)\n",
    "print_job(print_queue)\n",
    "print_job(print_queue)\n",
    "print_job(print_queue)"
   ]
  },
  {
   "cell_type": "code",
   "execution_count": null,
   "id": "77f8e1a0-6e49-440d-9c65-8485beac5fae",
   "metadata": {
    "id": "77f8e1a0-6e49-440d-9c65-8485beac5fae"
   },
   "outputs": [],
   "source": [
    "# We're implementing a shopping application\n",
    "# where users can write down all the items they need to buy. \n",
    "# They can add items, remove any item and view all items.\n",
    "\n",
    "\n",
    "\n",
    "# lst.insert(pos, value)\n",
    "# lst.remove(value)\n",
    "# print(lst)\n",
    "\n",
    "\n",
    "\n",
    "\n",
    "\n",
    "\n",
    "\n"
   ]
  },
  {
   "cell_type": "code",
   "execution_count": null,
   "id": "d2ad1843-00f8-4420-9b1a-747871931fc3",
   "metadata": {
    "id": "d2ad1843-00f8-4420-9b1a-747871931fc3"
   },
   "outputs": [],
   "source": [
    "# We want to store all the usernames of students at a university,\n",
    "# along with their major. We want to be able to add new students, and\n",
    "# check what major a student is.\n",
    "\n",
    "students = {}\n",
    "\n",
    "def add_a_student(students, student, major): #O(1)\n",
    "    students[student] = major\n",
    "\n",
    "def check_student_major(students, student): #O(1)\n",
    "    return students[student]\n",
    "\n",
    "add_a_student(students, \"salaar\", \"cs\")\n",
    "add_a_student(students, \"tom\", \"chem\")\n",
    "add_a_student(students, \"jill\", \"physics\")\n",
    "\n",
    "check_student_major(students, \"jill\")\n",
    "\n",
    "\n"
   ]
  },
  {
   "cell_type": "code",
   "execution_count": null,
   "id": "ab9113df-fbf9-4622-b19a-af2570dfee98",
   "metadata": {
    "id": "ab9113df-fbf9-4622-b19a-af2570dfee98"
   },
   "outputs": [],
   "source": []
  },
  {
   "cell_type": "code",
   "execution_count": null,
   "id": "425a6eed-71e5-42a0-beb6-20c81d18f185",
   "metadata": {
    "id": "425a6eed-71e5-42a0-beb6-20c81d18f185"
   },
   "outputs": [],
   "source": []
  },
  {
   "cell_type": "code",
   "execution_count": null,
   "id": "f599b19c-50cb-4f2e-9d94-22493c7d91ed",
   "metadata": {
    "id": "f599b19c-50cb-4f2e-9d94-22493c7d91ed"
   },
   "outputs": [],
   "source": []
  },
  {
   "cell_type": "code",
   "execution_count": null,
   "id": "caea11f7-6175-487e-84c1-b7d85be642de",
   "metadata": {
    "id": "caea11f7-6175-487e-84c1-b7d85be642de"
   },
   "outputs": [],
   "source": []
  },
  {
   "cell_type": "code",
   "execution_count": null,
   "id": "fd7efcf1-36c0-4e5d-a07f-711820206160",
   "metadata": {
    "id": "fd7efcf1-36c0-4e5d-a07f-711820206160"
   },
   "outputs": [],
   "source": []
  },
  {
   "cell_type": "code",
   "execution_count": null,
   "id": "49f3ce98-3d8d-468d-9109-61d6fdd8d979",
   "metadata": {
    "id": "49f3ce98-3d8d-468d-9109-61d6fdd8d979"
   },
   "outputs": [],
   "source": []
  },
  {
   "cell_type": "code",
   "execution_count": null,
   "id": "0e5cf946-6d2e-4f91-9929-c1a282113356",
   "metadata": {
    "id": "0e5cf946-6d2e-4f91-9929-c1a282113356"
   },
   "outputs": [],
   "source": []
  },
  {
   "cell_type": "code",
   "execution_count": null,
   "id": "023e98d1-c8f4-4e6b-8199-c86af97679d6",
   "metadata": {
    "id": "023e98d1-c8f4-4e6b-8199-c86af97679d6"
   },
   "outputs": [],
   "source": []
  },
  {
   "cell_type": "code",
   "execution_count": null,
   "id": "5bcce29a-bbf7-44f2-8851-7439cfdadbcc",
   "metadata": {
    "id": "5bcce29a-bbf7-44f2-8851-7439cfdadbcc"
   },
   "outputs": [],
   "source": []
  },
  {
   "cell_type": "code",
   "execution_count": null,
   "id": "d5f0e7ed-ec11-4433-abe2-475b378165cb",
   "metadata": {
    "id": "d5f0e7ed-ec11-4433-abe2-475b378165cb"
   },
   "outputs": [],
   "source": []
  },
  {
   "cell_type": "code",
   "execution_count": null,
   "id": "45035faf-f4b5-4d9d-8bdd-42c93089444f",
   "metadata": {
    "id": "45035faf-f4b5-4d9d-8bdd-42c93089444f"
   },
   "outputs": [],
   "source": []
  },
  {
   "cell_type": "code",
   "execution_count": null,
   "id": "5eefd83a-d160-4c66-92f5-e6c6fdfb03d3",
   "metadata": {
    "id": "5eefd83a-d160-4c66-92f5-e6c6fdfb03d3"
   },
   "outputs": [],
   "source": []
  },
  {
   "cell_type": "code",
   "execution_count": null,
   "id": "705a6856-5660-4014-b3d3-def50f4a01ef",
   "metadata": {
    "id": "705a6856-5660-4014-b3d3-def50f4a01ef"
   },
   "outputs": [],
   "source": []
  },
  {
   "cell_type": "code",
   "execution_count": null,
   "id": "8128caac-580f-4682-8977-bc81c7437971",
   "metadata": {
    "id": "8128caac-580f-4682-8977-bc81c7437971"
   },
   "outputs": [],
   "source": []
  },
  {
   "cell_type": "code",
   "execution_count": null,
   "id": "df7a503d-2e22-48fe-814f-a8962d91eee9",
   "metadata": {
    "id": "df7a503d-2e22-48fe-814f-a8962d91eee9"
   },
   "outputs": [],
   "source": []
  },
  {
   "cell_type": "code",
   "execution_count": null,
   "id": "e8a0d007-f390-4e36-9054-5a5c0d1eb21c",
   "metadata": {
    "id": "e8a0d007-f390-4e36-9054-5a5c0d1eb21c"
   },
   "outputs": [],
   "source": []
  },
  {
   "cell_type": "code",
   "execution_count": null,
   "id": "1e0af300-6b25-4d88-aae1-7ed209ee4488",
   "metadata": {
    "id": "1e0af300-6b25-4d88-aae1-7ed209ee4488"
   },
   "outputs": [],
   "source": []
  },
  {
   "cell_type": "code",
   "execution_count": null,
   "id": "31c81f01-1d08-4d24-8566-226bc0d3b3d9",
   "metadata": {
    "id": "31c81f01-1d08-4d24-8566-226bc0d3b3d9"
   },
   "outputs": [],
   "source": []
  },
  {
   "cell_type": "code",
   "execution_count": null,
   "id": "d72783b3-0b7d-47bf-8387-011e75953c01",
   "metadata": {
    "id": "d72783b3-0b7d-47bf-8387-011e75953c01"
   },
   "outputs": [],
   "source": []
  },
  {
   "cell_type": "code",
   "execution_count": null,
   "id": "25401d54-989c-46af-a337-358e9cf9822e",
   "metadata": {
    "id": "25401d54-989c-46af-a337-358e9cf9822e"
   },
   "outputs": [],
   "source": []
  },
  {
   "cell_type": "code",
   "execution_count": null,
   "id": "6736d1e1-e38a-4fa2-97a5-bdfb4cb6cdcc",
   "metadata": {
    "id": "6736d1e1-e38a-4fa2-97a5-bdfb4cb6cdcc"
   },
   "outputs": [],
   "source": []
  },
  {
   "cell_type": "code",
   "execution_count": null,
   "id": "5c953ec8-d049-45a4-83cd-380762101150",
   "metadata": {
    "id": "5c953ec8-d049-45a4-83cd-380762101150"
   },
   "outputs": [],
   "source": []
  },
  {
   "cell_type": "code",
   "execution_count": null,
   "id": "da0d74ba-785d-4f5f-a0c4-f642aad6f077",
   "metadata": {
    "id": "da0d74ba-785d-4f5f-a0c4-f642aad6f077"
   },
   "outputs": [],
   "source": []
  },
  {
   "cell_type": "code",
   "execution_count": null,
   "id": "a4980b55-7e66-4c60-b81d-6d27d5ee97d3",
   "metadata": {
    "id": "a4980b55-7e66-4c60-b81d-6d27d5ee97d3"
   },
   "outputs": [],
   "source": []
  },
  {
   "cell_type": "code",
   "execution_count": null,
   "id": "a509c875-6133-4f5e-85d1-1a8931d7acf3",
   "metadata": {
    "id": "a509c875-6133-4f5e-85d1-1a8931d7acf3"
   },
   "outputs": [],
   "source": []
  },
  {
   "cell_type": "code",
   "execution_count": null,
   "id": "a3187c81-beea-4689-9ca2-9188a81bba5d",
   "metadata": {
    "id": "a3187c81-beea-4689-9ca2-9188a81bba5d"
   },
   "outputs": [],
   "source": []
  },
  {
   "cell_type": "code",
   "execution_count": null,
   "id": "ce189873-e58e-47b9-949e-f8cf17320721",
   "metadata": {
    "id": "ce189873-e58e-47b9-949e-f8cf17320721"
   },
   "outputs": [],
   "source": []
  },
  {
   "cell_type": "code",
   "execution_count": null,
   "id": "b5f0faae-0aa7-4f12-8df9-a8a34493911c",
   "metadata": {
    "id": "b5f0faae-0aa7-4f12-8df9-a8a34493911c"
   },
   "outputs": [],
   "source": []
  }
 ],
 "metadata": {
  "colab": {
   "provenance": []
  },
  "kernelspec": {
   "display_name": "Python 3 (ipykernel)",
   "language": "python",
   "name": "python3"
  },
  "language_info": {
   "codemirror_mode": {
    "name": "ipython",
    "version": 3
   },
   "file_extension": ".py",
   "mimetype": "text/x-python",
   "name": "python",
   "nbconvert_exporter": "python",
   "pygments_lexer": "ipython3",
   "version": "3.9.18"
  }
 },
 "nbformat": 4,
 "nbformat_minor": 5
}
